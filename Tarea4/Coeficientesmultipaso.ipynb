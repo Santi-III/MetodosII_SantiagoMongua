{
 "cells": [
  {
   "cell_type": "code",
   "execution_count": 1,
   "id": "a1b4bd16",
   "metadata": {},
   "outputs": [],
   "source": [
    "import numpy as np\n",
    "import sympy as sym"
   ]
  },
  {
   "cell_type": "code",
   "execution_count": 2,
   "id": "0e3fb130",
   "metadata": {},
   "outputs": [],
   "source": [
    "t = sym.Symbol('t',Real=True)\n",
    "h = sym.Symbol('h',Real=True)"
   ]
  },
  {
   "cell_type": "markdown",
   "id": "0ae15043",
   "metadata": {},
   "source": [
    "# Adams-Moulton"
   ]
  },
  {
   "cell_type": "markdown",
   "id": "72045ba6",
   "metadata": {},
   "source": [
    "Para tres puntos"
   ]
  },
  {
   "cell_type": "code",
   "execution_count": 3,
   "id": "2235db9f",
   "metadata": {},
   "outputs": [],
   "source": [
    "F1 = ( ( t + 2*h ) * (t + h) ) / (2*h**2)\n",
    "F2 = -( ( t ) * (t + 2*h) ) / (h**2)\n",
    "F3 = ( ( t ) * (t + h) ) / (2*h**2)"
   ]
  },
  {
   "cell_type": "code",
   "execution_count": 4,
   "id": "8d9821f7",
   "metadata": {},
   "outputs": [
    {
     "data": {
      "text/latex": [
       "$\\displaystyle \\frac{23 h}{12}$"
      ],
      "text/plain": [
       "23*h/12"
      ]
     },
     "execution_count": 4,
     "metadata": {},
     "output_type": "execute_result"
    }
   ],
   "source": [
    "I1 = sym.integrate(F1,(t,0,h))\n",
    "I1"
   ]
  },
  {
   "cell_type": "code",
   "execution_count": 5,
   "id": "872726e8",
   "metadata": {},
   "outputs": [
    {
     "data": {
      "text/latex": [
       "$\\displaystyle - \\frac{4 h}{3}$"
      ],
      "text/plain": [
       "-4*h/3"
      ]
     },
     "execution_count": 5,
     "metadata": {},
     "output_type": "execute_result"
    }
   ],
   "source": [
    "I2 = sym.integrate(F2,(t,0,h))\n",
    "I2"
   ]
  },
  {
   "cell_type": "code",
   "execution_count": 6,
   "id": "6ad3d84c",
   "metadata": {},
   "outputs": [
    {
     "data": {
      "text/latex": [
       "$\\displaystyle \\frac{5 h}{12}$"
      ],
      "text/plain": [
       "5*h/12"
      ]
     },
     "execution_count": 6,
     "metadata": {},
     "output_type": "execute_result"
    }
   ],
   "source": [
    "I3 = sym.integrate(F3,(t,0,h))\n",
    "I3"
   ]
  },
  {
   "cell_type": "markdown",
   "id": "d4a272e1",
   "metadata": {},
   "source": [
    "Para cuatro puntos"
   ]
  },
  {
   "cell_type": "code",
   "execution_count": 7,
   "id": "726dfbc9",
   "metadata": {},
   "outputs": [],
   "source": [
    "F1 = ( ( t + 2*h ) * (t + h) * (t+3*h) ) / (6*h**3)\n",
    "F2 = -( ( t ) * (t + 2*h) * (t + 3*h) ) / (2*h**3)\n",
    "F3 = ( ( t ) * (t + h) * (t + 3*h) ) / (2*h**3)\n",
    "F4 = -( ( t ) * (t + h) * (t + 2*h) ) / (6*h**3)"
   ]
  },
  {
   "cell_type": "code",
   "execution_count": 8,
   "id": "a1b166ff",
   "metadata": {},
   "outputs": [
    {
     "data": {
      "text/latex": [
       "$\\displaystyle \\frac{55 h}{24}$"
      ],
      "text/plain": [
       "55*h/24"
      ]
     },
     "execution_count": 8,
     "metadata": {},
     "output_type": "execute_result"
    }
   ],
   "source": [
    "I1 = sym.integrate(F1,(t,0,h))\n",
    "I1"
   ]
  },
  {
   "cell_type": "code",
   "execution_count": 9,
   "id": "8736a533",
   "metadata": {},
   "outputs": [
    {
     "data": {
      "text/latex": [
       "$\\displaystyle - \\frac{59 h}{24}$"
      ],
      "text/plain": [
       "-59*h/24"
      ]
     },
     "execution_count": 9,
     "metadata": {},
     "output_type": "execute_result"
    }
   ],
   "source": [
    "I2 = sym.integrate(F2,(t,0,h))\n",
    "I2"
   ]
  },
  {
   "cell_type": "code",
   "execution_count": 10,
   "id": "cc53ff08",
   "metadata": {},
   "outputs": [
    {
     "data": {
      "text/latex": [
       "$\\displaystyle \\frac{37 h}{24}$"
      ],
      "text/plain": [
       "37*h/24"
      ]
     },
     "execution_count": 10,
     "metadata": {},
     "output_type": "execute_result"
    }
   ],
   "source": [
    "I3 = sym.integrate(F3,(t,0,h))\n",
    "I3"
   ]
  },
  {
   "cell_type": "code",
   "execution_count": 11,
   "id": "8d523238",
   "metadata": {},
   "outputs": [
    {
     "data": {
      "text/latex": [
       "$\\displaystyle - \\frac{3 h}{8}$"
      ],
      "text/plain": [
       "-3*h/8"
      ]
     },
     "execution_count": 11,
     "metadata": {},
     "output_type": "execute_result"
    }
   ],
   "source": [
    "I4 = sym.integrate(F4,(t,0,h))\n",
    "I4"
   ]
  },
  {
   "cell_type": "markdown",
   "id": "9bd532b1",
   "metadata": {},
   "source": [
    "# Adams-Bashford"
   ]
  },
  {
   "cell_type": "markdown",
   "id": "0ba8e7f1",
   "metadata": {},
   "source": [
    "Para tres puntos"
   ]
  },
  {
   "cell_type": "code",
   "execution_count": 12,
   "id": "94ba7c54",
   "metadata": {},
   "outputs": [],
   "source": [
    "F1 = ( ( t ) * (t + h) ) / (2*h**2)\n",
    "F2 = -( ( t - h ) * (t + h) ) / (h**2)\n",
    "F3 = ( ( t ) * (t - h) ) / (2*h**2)"
   ]
  },
  {
   "cell_type": "code",
   "execution_count": 13,
   "id": "00b3cbbe",
   "metadata": {},
   "outputs": [
    {
     "data": {
      "text/latex": [
       "$\\displaystyle \\frac{5 h}{12}$"
      ],
      "text/plain": [
       "5*h/12"
      ]
     },
     "execution_count": 13,
     "metadata": {},
     "output_type": "execute_result"
    }
   ],
   "source": [
    "I1 = sym.integrate(F1,(t,0,h))\n",
    "I1"
   ]
  },
  {
   "cell_type": "code",
   "execution_count": 14,
   "id": "ef8bfab4",
   "metadata": {},
   "outputs": [
    {
     "data": {
      "text/latex": [
       "$\\displaystyle \\frac{2 h}{3}$"
      ],
      "text/plain": [
       "2*h/3"
      ]
     },
     "execution_count": 14,
     "metadata": {},
     "output_type": "execute_result"
    }
   ],
   "source": [
    "I2 = sym.integrate(F2,(t,0,h))\n",
    "I2"
   ]
  },
  {
   "cell_type": "code",
   "execution_count": 15,
   "id": "d198393c",
   "metadata": {},
   "outputs": [
    {
     "data": {
      "text/latex": [
       "$\\displaystyle - \\frac{h}{12}$"
      ],
      "text/plain": [
       "-h/12"
      ]
     },
     "execution_count": 15,
     "metadata": {},
     "output_type": "execute_result"
    }
   ],
   "source": [
    "I3 = sym.integrate(F3,(t,0,h))\n",
    "I3"
   ]
  },
  {
   "cell_type": "markdown",
   "id": "deb381eb",
   "metadata": {},
   "source": [
    "Para cuatro puntos"
   ]
  },
  {
   "cell_type": "code",
   "execution_count": 16,
   "id": "3ca3ab87",
   "metadata": {},
   "outputs": [],
   "source": [
    "F1 = ( ( t ) * (t + h) * (t + 2*h) ) / (6*h**3)\n",
    "F2 = -( ( t - h ) * (t + h) * (t + 2*h) ) / (2*h**3)\n",
    "F3 = ( ( t - h ) * (t) * (t + 2*h) ) / (2*h**3)\n",
    "F4 = -( ( t ) * (t + h) * ( t - h ) ) / (6*h**3)"
   ]
  },
  {
   "cell_type": "code",
   "execution_count": 17,
   "id": "7dbe1327",
   "metadata": {},
   "outputs": [
    {
     "data": {
      "text/latex": [
       "$\\displaystyle \\frac{3 h}{8}$"
      ],
      "text/plain": [
       "3*h/8"
      ]
     },
     "execution_count": 17,
     "metadata": {},
     "output_type": "execute_result"
    }
   ],
   "source": [
    "I1 = sym.integrate(F1,(t,0,h))\n",
    "I1"
   ]
  },
  {
   "cell_type": "code",
   "execution_count": 18,
   "id": "eedbfc83",
   "metadata": {},
   "outputs": [
    {
     "data": {
      "text/latex": [
       "$\\displaystyle \\frac{19 h}{24}$"
      ],
      "text/plain": [
       "19*h/24"
      ]
     },
     "execution_count": 18,
     "metadata": {},
     "output_type": "execute_result"
    }
   ],
   "source": [
    "I2 = sym.integrate(F2,(t,0,h))\n",
    "I2"
   ]
  },
  {
   "cell_type": "code",
   "execution_count": 19,
   "id": "a13c8c81",
   "metadata": {},
   "outputs": [
    {
     "data": {
      "text/latex": [
       "$\\displaystyle - \\frac{5 h}{24}$"
      ],
      "text/plain": [
       "-5*h/24"
      ]
     },
     "execution_count": 19,
     "metadata": {},
     "output_type": "execute_result"
    }
   ],
   "source": [
    "I3 = sym.integrate(F3,(t,0,h))\n",
    "I3"
   ]
  },
  {
   "cell_type": "code",
   "execution_count": 20,
   "id": "7d95221a",
   "metadata": {},
   "outputs": [
    {
     "data": {
      "text/latex": [
       "$\\displaystyle \\frac{h}{24}$"
      ],
      "text/plain": [
       "h/24"
      ]
     },
     "execution_count": 20,
     "metadata": {},
     "output_type": "execute_result"
    }
   ],
   "source": [
    "I4 = sym.integrate(F4,(t,0,h))\n",
    "I4"
   ]
  },
  {
   "cell_type": "code",
   "execution_count": null,
   "id": "b9db157f",
   "metadata": {},
   "outputs": [],
   "source": []
  }
 ],
 "metadata": {
  "kernelspec": {
   "display_name": "Python 3 (ipykernel)",
   "language": "python",
   "name": "python3"
  },
  "language_info": {
   "codemirror_mode": {
    "name": "ipython",
    "version": 3
   },
   "file_extension": ".py",
   "mimetype": "text/x-python",
   "name": "python",
   "nbconvert_exporter": "python",
   "pygments_lexer": "ipython3",
   "version": "3.9.7"
  }
 },
 "nbformat": 4,
 "nbformat_minor": 5
}
